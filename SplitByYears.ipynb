{
 "cells": [
  {
   "cell_type": "code",
   "execution_count": 2,
   "metadata": {},
   "outputs": [],
   "source": [
    "import pandas as pd\n",
    "from pandas import Series,DataFrame\n",
    "import numpy as np\n",
    "import matplotlib.pyplot as plt"
   ]
  },
  {
   "cell_type": "code",
   "execution_count": 3,
   "metadata": {},
   "outputs": [],
   "source": [
    "d=pd.read_csv('datasets\\deliveries.csv')\n",
    "m=pd.read_csv('datasets\\matches.csv')\n",
    "c=m.columns\n",
    "m1=m.drop(c[[2,3,4,5,6,7,8,9,10,11,12,14,15,16,17]],axis=1)\n",
    "m2=m1.rename(columns={'id':'match_id'})"
   ]
  },
  {
   "cell_type": "code",
   "execution_count": 4,
   "metadata": {},
   "outputs": [],
   "source": [
    "d1=pd.merge(d,m2,on='match_id')\n",
    "'''\n",
    "d2=d1.drop(columns=['inning','batting_team','over','non_striker','bowler','is_super_over','bowling_team'])\n",
    "d3=d2.drop(columns=['wide_runs','bye_runs','legbye_runs','noball_runs','penalty_runs','extra_runs'])\n",
    "d4=d3.drop(columns=['total_runs','player_dismissed','dismissal_kind','fielder'])\n",
    "'''\n",
    "d1.to_csv('merged.csv',index=False)"
   ]
  },
  {
   "cell_type": "code",
   "execution_count": 5,
   "metadata": {},
   "outputs": [],
   "source": [
    "d5=d1.season<2018 \n",
    "d6=d1[d5]\n",
    "d7=d6.season>2015\n",
    "d8=d6[d7]\n",
    "d8.to_csv('1617.csv',index=False)"
   ]
  },
  {
   "cell_type": "code",
   "execution_count": 6,
   "metadata": {},
   "outputs": [],
   "source": [
    "d5=d1.season>2017 \n",
    "d6=d1[d5]\n",
    "d6.to_csv('1819.csv',index=False)"
   ]
  },
  {
   "cell_type": "code",
   "execution_count": 7,
   "metadata": {},
   "outputs": [],
   "source": [
    "a819=pd.read_csv('batsman/avgrun819.csv')\n",
    "f819=pd.read_csv('batsman/batsmansfour819.csv')\n",
    "s819=pd.read_csv('batsman/batsmanssix819.csv')\n",
    "fif819=pd.read_csv('batsman/fifty819.csv')\n",
    "hun819=pd.read_csv('batsman/hundred819.csv')\n",
    "strike819=pd.read_csv('batsman/strike819.csv')\n",
    "th819=pd.read_csv('batsman/thirty819.csv')"
   ]
  },
  {
   "cell_type": "code",
   "execution_count": 8,
   "metadata": {},
   "outputs": [],
   "source": [
    "a819=a819.rename(columns={'batsman_runs':'avg.runs'})\n",
    "f819=f819.rename(columns={'total_runs':'4\\'s'})\n",
    "s819=s819.rename(columns={'total_runs':'6\\'s'})\n",
    "fif819=fif819.rename(columns={'batsman_runs':'50\\'s'})\n",
    "hun819=hun819.rename(columns={'batsman_runs':'100\\'s'})\n",
    "th819=th819.rename(columns={'batsman_runs':'30\\'s'})"
   ]
  },
  {
   "cell_type": "code",
   "execution_count": 9,
   "metadata": {},
   "outputs": [],
   "source": [
    "a1=pd.merge(a819,f819,on='batsman',how='outer')\n",
    "a2=pd.merge(a1,s819,on='batsman',how='outer')\n",
    "a3=pd.merge(a2,fif819,on='batsman',how='outer')\n",
    "a4=pd.merge(a3,hun819,on='batsman',how='outer')\n",
    "a5=pd.merge(a4,strike819,on='batsman',how='outer')\n",
    "a6=pd.merge(a5,th819,on='batsman',how='outer')"
   ]
  },
  {
   "cell_type": "code",
   "execution_count": 10,
   "metadata": {},
   "outputs": [],
   "source": [
    "a6.sort_values(by='strike',ascending=False)\n",
    "a6.to_csv('819final.csv',index=False)"
   ]
  },
  {
   "cell_type": "code",
   "execution_count": 11,
   "metadata": {},
   "outputs": [],
   "source": [
    "a1819=pd.read_csv('batsman/avgrun1819.csv')\n",
    "f1819=pd.read_csv('batsman/batsmansfour1819.csv')\n",
    "s1819=pd.read_csv('batsman/batsmanssix1819.csv')\n",
    "fif1819=pd.read_csv('batsman/fifty1819.csv')\n",
    "hun1819=pd.read_csv('batsman/hundred1819.csv')\n",
    "strike1819=pd.read_csv('batsman/strike1819.csv')\n",
    "th1819=pd.read_csv('batsman/thirty1819.csv')"
   ]
  },
  {
   "cell_type": "code",
   "execution_count": 12,
   "metadata": {},
   "outputs": [],
   "source": [
    "a1819=a1819.rename(columns={'batsman_runs':'avg.runs'})\n",
    "f1819=f1819.rename(columns={'total_runs':'4\\'s'})\n",
    "s1819=s1819.rename(columns={'total_runs':'6\\'s'})\n",
    "fif1819=fif1819.rename(columns={'batsman_runs':'50\\'s'})\n",
    "hun1819=hun1819.rename(columns={'batsman_runs':'100\\'s'})\n",
    "th1819=th1819.rename(columns={'batsman_runs':'30\\'s'})"
   ]
  },
  {
   "cell_type": "code",
   "execution_count": 13,
   "metadata": {},
   "outputs": [],
   "source": [
    "b1=pd.merge(a1819,f1819,on='batsman',how='outer')\n",
    "b2=pd.merge(b1,s1819,on='batsman',how='outer')\n",
    "b3=pd.merge(b2,fif1819,on='batsman',how='outer')\n",
    "b4=pd.merge(b3,hun1819,on='batsman',how='outer')\n",
    "b5=pd.merge(b4,strike1819,on='batsman',how='outer')\n",
    "b6=pd.merge(b5,th1819,on='batsman',how='outer')"
   ]
  },
  {
   "cell_type": "code",
   "execution_count": 14,
   "metadata": {},
   "outputs": [],
   "source": [
    "b6.sort_values(by='strike',ascending=False)\n",
    "b6.to_csv('1819final.csv',index=False)"
   ]
  },
  {
   "cell_type": "code",
   "execution_count": 15,
   "metadata": {},
   "outputs": [],
   "source": [
    "a1617=pd.read_csv('batsman/avgrun1617.csv')\n",
    "f1617=pd.read_csv('batsman/batsmansfour1617.csv')\n",
    "s1617=pd.read_csv('batsman/batsmanssix1617.csv')\n",
    "fif1617=pd.read_csv('batsman/fifty1617.csv')\n",
    "hun1617=pd.read_csv('batsman/hundred1617.csv')\n",
    "strike1617=pd.read_csv('batsman/strike1617.csv')\n",
    "th1617=pd.read_csv('batsman/thirty1617.csv')"
   ]
  },
  {
   "cell_type": "code",
   "execution_count": 16,
   "metadata": {},
   "outputs": [],
   "source": [
    "a1617=a1617.rename(columns={'batsman_runs':'avg.runs'})\n",
    "f1617=f1617.rename(columns={'total_runs':'4\\'s'})\n",
    "s1617=s1617.rename(columns={'total_runs':'6\\'s'})\n",
    "fif1617=fif1617.rename(columns={'batsman_runs':'50\\'s'})\n",
    "hun1617=hun1617.rename(columns={'batsman_runs':'100\\'s'})\n",
    "th1617=th1617.rename(columns={'batsman_runs':'30\\'s'})"
   ]
  },
  {
   "cell_type": "code",
   "execution_count": 17,
   "metadata": {},
   "outputs": [],
   "source": [
    "c1=pd.merge(a1617,f1617,on='batsman',how='outer')\n",
    "c2=pd.merge(c1,s1617,on='batsman',how='outer')\n",
    "c3=pd.merge(c2,fif1617,on='batsman',how='outer')\n",
    "c4=pd.merge(c3,hun1617,on='batsman',how='outer')\n",
    "c5=pd.merge(c4,strike1617,on='batsman',how='outer')\n",
    "c6=pd.merge(c5,th1617,on='batsman',how='outer')"
   ]
  },
  {
   "cell_type": "code",
   "execution_count": 18,
   "metadata": {},
   "outputs": [],
   "source": [
    "c6.sort_values(by='strike',ascending=False)\n",
    "c6.to_csv('1617final.csv',index=False)"
   ]
  },
  {
   "cell_type": "code",
   "execution_count": null,
   "metadata": {},
   "outputs": [],
   "source": []
  }
 ],
 "metadata": {
  "kernelspec": {
   "display_name": "Python 3",
   "language": "python",
   "name": "python3"
  },
  "language_info": {
   "codemirror_mode": {
    "name": "ipython",
    "version": 3
   },
   "file_extension": ".py",
   "mimetype": "text/x-python",
   "name": "python",
   "nbconvert_exporter": "python",
   "pygments_lexer": "ipython3",
   "version": "3.7.3"
  }
 },
 "nbformat": 4,
 "nbformat_minor": 2
}
