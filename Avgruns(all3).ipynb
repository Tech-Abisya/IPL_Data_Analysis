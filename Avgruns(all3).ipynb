{
 "cells": [
  {
   "cell_type": "code",
   "execution_count": 1,
   "metadata": {},
   "outputs": [],
   "source": [
    "import pandas as pd\n",
    "import numpy as np\n",
    "from pandas import DataFrame,Series"
   ]
  },
  {
   "cell_type": "code",
   "execution_count": 2,
   "metadata": {},
   "outputs": [
    {
     "data": {
      "text/plain": [
       "match_id  batsman    \n",
       "1         A Choudhary     6\n",
       "          BCJ Cutting    16\n",
       "          CH Gayle       32\n",
       "          DA Warner      14\n",
       "          DJ Hooda       16\n",
       "Name: batsman_runs, dtype: int64"
      ]
     },
     "execution_count": 2,
     "metadata": {},
     "output_type": "execute_result"
    }
   ],
   "source": [
    "data = pd.read_csv('datasets\\deliveries.csv')\n",
    "cd=data.groupby(['match_id','batsman'])['batsman_runs'].sum()\n",
    "cd.head()"
   ]
  },
  {
   "cell_type": "code",
   "execution_count": 3,
   "metadata": {},
   "outputs": [],
   "source": [
    "cd0 = pd.DataFrame(cd)\n",
    "ave_run=cd0.groupby('batsman')['batsman_runs'].mean().sort_values(ascending=False)\n",
    "ave_run=pd.DataFrame(ave_run)\n",
    "ave_run=ave_run.reset_index()\n",
    "#ave_run.to_csv('avgrun19.csv',index=False)"
   ]
  },
  {
   "cell_type": "code",
   "execution_count": 4,
   "metadata": {},
   "outputs": [
    {
     "data": {
      "text/plain": [
       "match_id  batsman    \n",
       "1         A Choudhary     6\n",
       "          BCJ Cutting    16\n",
       "          CH Gayle       32\n",
       "          DA Warner      14\n",
       "          DJ Hooda       16\n",
       "Name: batsman_runs, dtype: int64"
      ]
     },
     "execution_count": 4,
     "metadata": {},
     "output_type": "execute_result"
    }
   ],
   "source": [
    "data = pd.read_csv('datasets/1617.csv')\n",
    "cd=data.groupby(['match_id','batsman'])['batsman_runs'].sum()\n",
    "cd.head()"
   ]
  },
  {
   "cell_type": "code",
   "execution_count": 5,
   "metadata": {},
   "outputs": [],
   "source": [
    "cd0 = pd.DataFrame(cd)\n",
    "ave_run=cd0.groupby('batsman')['batsman_runs'].mean().sort_values(ascending=False)\n",
    "ave_run=pd.DataFrame(ave_run)\n",
    "ave_run=ave_run.reset_index()\n",
    "#ave_run.to_csv('avgrun1617.csv',index=False)"
   ]
  },
  {
   "cell_type": "code",
   "execution_count": 6,
   "metadata": {},
   "outputs": [
    {
     "data": {
      "text/plain": [
       "match_id  batsman  \n",
       "7894      AS Yadav     43\n",
       "          AT Rayudu    22\n",
       "          DJ Bravo     69\n",
       "          DL Chahar     0\n",
       "          E Lewis       0\n",
       "Name: batsman_runs, dtype: int64"
      ]
     },
     "execution_count": 6,
     "metadata": {},
     "output_type": "execute_result"
    }
   ],
   "source": [
    "data = pd.read_csv('datasets/1819.csv')\n",
    "cd=data.groupby(['match_id','batsman'])['batsman_runs'].sum()\n",
    "cd.head()"
   ]
  },
  {
   "cell_type": "code",
   "execution_count": 7,
   "metadata": {},
   "outputs": [],
   "source": [
    "cd0 = pd.DataFrame(cd)\n",
    "ave_run=cd0.groupby('batsman')['batsman_runs'].mean().sort_values(ascending=False)\n",
    "ave_run=pd.DataFrame(ave_run)\n",
    "ave_run=ave_run.reset_index()\n",
    "#ave_run.to_csv('avgrun1819.csv',index=False)"
   ]
  },
  {
   "cell_type": "code",
   "execution_count": 8,
   "metadata": {},
   "outputs": [
    {
     "data": {
      "text/html": [
       "<div>\n",
       "<style scoped>\n",
       "    .dataframe tbody tr th:only-of-type {\n",
       "        vertical-align: middle;\n",
       "    }\n",
       "\n",
       "    .dataframe tbody tr th {\n",
       "        vertical-align: top;\n",
       "    }\n",
       "\n",
       "    .dataframe thead th {\n",
       "        text-align: right;\n",
       "    }\n",
       "</style>\n",
       "<table border=\"1\" class=\"dataframe\">\n",
       "  <thead>\n",
       "    <tr style=\"text-align: right;\">\n",
       "      <th></th>\n",
       "      <th>batsman</th>\n",
       "      <th>batsman_runs</th>\n",
       "    </tr>\n",
       "  </thead>\n",
       "  <tbody>\n",
       "    <tr>\n",
       "      <th>0</th>\n",
       "      <td>DA Warner</td>\n",
       "      <td>60.583333</td>\n",
       "    </tr>\n",
       "    <tr>\n",
       "      <th>1</th>\n",
       "      <td>J Bairstow</td>\n",
       "      <td>46.800000</td>\n",
       "    </tr>\n",
       "    <tr>\n",
       "      <th>2</th>\n",
       "      <td>KL Rahul</td>\n",
       "      <td>46.000000</td>\n",
       "    </tr>\n",
       "    <tr>\n",
       "      <th>3</th>\n",
       "      <td>JC Buttler</td>\n",
       "      <td>43.000000</td>\n",
       "    </tr>\n",
       "    <tr>\n",
       "      <th>4</th>\n",
       "      <td>RR Pant</td>\n",
       "      <td>40.933333</td>\n",
       "    </tr>\n",
       "  </tbody>\n",
       "</table>\n",
       "</div>"
      ],
      "text/plain": [
       "      batsman  batsman_runs\n",
       "0   DA Warner     60.583333\n",
       "1  J Bairstow     46.800000\n",
       "2    KL Rahul     46.000000\n",
       "3  JC Buttler     43.000000\n",
       "4     RR Pant     40.933333"
      ]
     },
     "execution_count": 8,
     "metadata": {},
     "output_type": "execute_result"
    }
   ],
   "source": [
    "ave_run.head()"
   ]
  },
  {
   "cell_type": "code",
   "execution_count": null,
   "metadata": {},
   "outputs": [],
   "source": []
  }
 ],
 "metadata": {
  "kernelspec": {
   "display_name": "Python 3",
   "language": "python",
   "name": "python3"
  },
  "language_info": {
   "codemirror_mode": {
    "name": "ipython",
    "version": 3
   },
   "file_extension": ".py",
   "mimetype": "text/x-python",
   "name": "python",
   "nbconvert_exporter": "python",
   "pygments_lexer": "ipython3",
   "version": "3.7.3"
  }
 },
 "nbformat": 4,
 "nbformat_minor": 2
}
