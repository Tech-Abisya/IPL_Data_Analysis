{
 "cells": [
  {
   "cell_type": "code",
   "execution_count": 106,
   "metadata": {},
   "outputs": [],
   "source": [
    "import pandas as pd\n",
    "from pandas import Series,DataFrame\n",
    "import numpy as np\n",
    "import matplotlib.pyplot as plt"
   ]
  },
  {
   "cell_type": "code",
   "execution_count": 107,
   "metadata": {},
   "outputs": [],
   "source": [
    "d=pd.read_csv('datasets\\deliveries.csv')\n",
    "m=pd.read_csv('datasets\\matches.csv')\n",
    "ba=pd.read_csv('batsmanpo.csv')\n",
    "c=m.columns\n",
    "m1=m.drop(c[[2,3,4,5,6,7,8,9,10,11,12,13,14,15,16,17]],axis=1)\n",
    "m2=m1.rename(columns={'id':'match_id'})"
   ]
  },
  {
   "cell_type": "code",
   "execution_count": 108,
   "metadata": {},
   "outputs": [
    {
     "name": "stdout",
     "output_type": "stream",
     "text": [
      "   match_id      batsman  over  total_runs  season\n",
      "0         1  A Choudhary    20           6    2017\n",
      "1         1  BCJ Cutting    19           1    2017\n",
      "2         1  BCJ Cutting    20          15    2017\n",
      "3         1     CH Gayle     1           1    2017\n",
      "4         1     CH Gayle     2           1    2017\n"
     ]
    },
    {
     "name": "stderr",
     "output_type": "stream",
     "text": [
      "C:\\Users\\ishita.kedia\\AppData\\Local\\Continuum\\anaconda3\\lib\\site-packages\\ipykernel_launcher.py:5: FutureWarning: The signature of `Series.to_csv` was aligned to that of `DataFrame.to_csv`, and argument 'header' will change its default value from False to True: please pass an explicit value to suppress this warning.\n",
      "  \"\"\"\n"
     ]
    },
    {
     "data": {
      "text/plain": [
       "batsman         season  match_id\n",
       "A Ashish Reddy  2012    346         10\n",
       "                        352          3\n",
       "                        359         12\n",
       "                        373         10\n",
       "                        376          5\n",
       "Name: total_runs, dtype: int64"
      ]
     },
     "execution_count": 108,
     "metadata": {},
     "output_type": "execute_result"
    }
   ],
   "source": [
    "sr=pd.merge(bb,m2,on='match_id')\n",
    "print(sr.head())\n",
    "sr.to_csv('sr.csv',index=False)\n",
    "sr1=sr.groupby(['batsman','season','match_id'])['total_runs'].agg('sum')\n",
    "sr1.to_csv('sr1.csv')\n",
    "sr1.head()"
   ]
  },
  {
   "cell_type": "code",
   "execution_count": 111,
   "metadata": {},
   "outputs": [
    {
     "data": {
      "text/plain": [
       "batsman         season  match_id\n",
       "A Ashish Reddy  2012    346         3\n",
       "                        352         2\n",
       "                        359         3\n",
       "                        373         1\n",
       "                        376         1\n",
       "Name: over, dtype: int64"
      ]
     },
     "execution_count": 111,
     "metadata": {},
     "output_type": "execute_result"
    }
   ],
   "source": [
    "sr2=sr.groupby(['batsman','season','match_id'])['over'].agg('count')\n",
    "sr2.head()"
   ]
  },
  {
   "cell_type": "code",
   "execution_count": 116,
   "metadata": {},
   "outputs": [
    {
     "data": {
      "text/html": [
       "<div>\n",
       "<style scoped>\n",
       "    .dataframe tbody tr th:only-of-type {\n",
       "        vertical-align: middle;\n",
       "    }\n",
       "\n",
       "    .dataframe tbody tr th {\n",
       "        vertical-align: top;\n",
       "    }\n",
       "\n",
       "    .dataframe thead th {\n",
       "        text-align: right;\n",
       "    }\n",
       "</style>\n",
       "<table border=\"1\" class=\"dataframe\">\n",
       "  <thead>\n",
       "    <tr style=\"text-align: right;\">\n",
       "      <th></th>\n",
       "      <th>player</th>\n",
       "      <th>season</th>\n",
       "      <th>match_id</th>\n",
       "      <th>no. of overs</th>\n",
       "    </tr>\n",
       "  </thead>\n",
       "  <tbody>\n",
       "    <tr>\n",
       "      <th>0</th>\n",
       "      <td>A Ashish Reddy</td>\n",
       "      <td>2012</td>\n",
       "      <td>346</td>\n",
       "      <td>3</td>\n",
       "    </tr>\n",
       "    <tr>\n",
       "      <th>1</th>\n",
       "      <td>A Ashish Reddy</td>\n",
       "      <td>2012</td>\n",
       "      <td>352</td>\n",
       "      <td>2</td>\n",
       "    </tr>\n",
       "    <tr>\n",
       "      <th>2</th>\n",
       "      <td>A Ashish Reddy</td>\n",
       "      <td>2012</td>\n",
       "      <td>359</td>\n",
       "      <td>3</td>\n",
       "    </tr>\n",
       "    <tr>\n",
       "      <th>3</th>\n",
       "      <td>A Ashish Reddy</td>\n",
       "      <td>2012</td>\n",
       "      <td>373</td>\n",
       "      <td>1</td>\n",
       "    </tr>\n",
       "    <tr>\n",
       "      <th>4</th>\n",
       "      <td>A Ashish Reddy</td>\n",
       "      <td>2012</td>\n",
       "      <td>376</td>\n",
       "      <td>1</td>\n",
       "    </tr>\n",
       "  </tbody>\n",
       "</table>\n",
       "</div>"
      ],
      "text/plain": [
       "           player  season  match_id  no. of overs\n",
       "0  A Ashish Reddy    2012       346             3\n",
       "1  A Ashish Reddy    2012       352             2\n",
       "2  A Ashish Reddy    2012       359             3\n",
       "3  A Ashish Reddy    2012       373             1\n",
       "4  A Ashish Reddy    2012       376             1"
      ]
     },
     "execution_count": 116,
     "metadata": {},
     "output_type": "execute_result"
    }
   ],
   "source": [
    "sr3=pd.read_csv('sr1.csv')\n",
    "sr4=pd.read_csv('sr2.csv')\n",
    "sr4.head()"
   ]
  },
  {
   "cell_type": "code",
   "execution_count": 117,
   "metadata": {},
   "outputs": [
    {
     "data": {
      "text/html": [
       "<div>\n",
       "<style scoped>\n",
       "    .dataframe tbody tr th:only-of-type {\n",
       "        vertical-align: middle;\n",
       "    }\n",
       "\n",
       "    .dataframe tbody tr th {\n",
       "        vertical-align: top;\n",
       "    }\n",
       "\n",
       "    .dataframe thead th {\n",
       "        text-align: right;\n",
       "    }\n",
       "</style>\n",
       "<table border=\"1\" class=\"dataframe\">\n",
       "  <thead>\n",
       "    <tr style=\"text-align: right;\">\n",
       "      <th></th>\n",
       "      <th>player</th>\n",
       "      <th>season</th>\n",
       "      <th>match_id</th>\n",
       "      <th>no. of overs</th>\n",
       "      <th>no. of balls</th>\n",
       "    </tr>\n",
       "  </thead>\n",
       "  <tbody>\n",
       "    <tr>\n",
       "      <th>0</th>\n",
       "      <td>A Ashish Reddy</td>\n",
       "      <td>2012</td>\n",
       "      <td>346</td>\n",
       "      <td>3</td>\n",
       "      <td>18</td>\n",
       "    </tr>\n",
       "    <tr>\n",
       "      <th>1</th>\n",
       "      <td>A Ashish Reddy</td>\n",
       "      <td>2012</td>\n",
       "      <td>352</td>\n",
       "      <td>2</td>\n",
       "      <td>12</td>\n",
       "    </tr>\n",
       "    <tr>\n",
       "      <th>2</th>\n",
       "      <td>A Ashish Reddy</td>\n",
       "      <td>2012</td>\n",
       "      <td>359</td>\n",
       "      <td>3</td>\n",
       "      <td>18</td>\n",
       "    </tr>\n",
       "    <tr>\n",
       "      <th>3</th>\n",
       "      <td>A Ashish Reddy</td>\n",
       "      <td>2012</td>\n",
       "      <td>373</td>\n",
       "      <td>1</td>\n",
       "      <td>6</td>\n",
       "    </tr>\n",
       "    <tr>\n",
       "      <th>4</th>\n",
       "      <td>A Ashish Reddy</td>\n",
       "      <td>2012</td>\n",
       "      <td>376</td>\n",
       "      <td>1</td>\n",
       "      <td>6</td>\n",
       "    </tr>\n",
       "  </tbody>\n",
       "</table>\n",
       "</div>"
      ],
      "text/plain": [
       "           player  season  match_id  no. of overs  no. of balls\n",
       "0  A Ashish Reddy    2012       346             3            18\n",
       "1  A Ashish Reddy    2012       352             2            12\n",
       "2  A Ashish Reddy    2012       359             3            18\n",
       "3  A Ashish Reddy    2012       373             1             6\n",
       "4  A Ashish Reddy    2012       376             1             6"
      ]
     },
     "execution_count": 117,
     "metadata": {},
     "output_type": "execute_result"
    }
   ],
   "source": [
    "sr4['no. of balls']=sr4['no. of overs']*6\n",
    "sr4.head()"
   ]
  },
  {
   "cell_type": "code",
   "execution_count": 120,
   "metadata": {},
   "outputs": [
    {
     "name": "stderr",
     "output_type": "stream",
     "text": [
      "C:\\Users\\ishita.kedia\\AppData\\Local\\Continuum\\anaconda3\\lib\\site-packages\\ipykernel_launcher.py:2: FutureWarning: The signature of `Series.to_csv` was aligned to that of `DataFrame.to_csv`, and argument 'header' will change its default value from False to True: please pass an explicit value to suppress this warning.\n",
      "  \n"
     ]
    }
   ],
   "source": [
    "sr8=sr4.groupby('player')['no. of balls'].agg('sum')\n",
    "sr8.to_csv('no. of balls.csv')"
   ]
  },
  {
   "cell_type": "code",
   "execution_count": 98,
   "metadata": {},
   "outputs": [],
   "source": [
    "sr5=pd.merge(sr3,sr4,on=['match_id','season','player'])\n",
    "#sr5.head()\n",
    "sr5['strike rate']=sr5['no. of runs']/sr5['no. of balls']\n",
    "sr5.head()\n",
    "sr5.to_csv('sr567.csv',index=False)"
   ]
  },
  {
   "cell_type": "code",
   "execution_count": 95,
   "metadata": {},
   "outputs": [
    {
     "data": {
      "text/plain": [
       "player          season  match_id\n",
       "A Ashish Reddy  2012    346         0.555556\n",
       "                        352         0.250000\n",
       "                        359         0.666667\n",
       "                        373         1.666667\n",
       "                        376         0.833333\n",
       "Name: strike rate, dtype: float64"
      ]
     },
     "execution_count": 95,
     "metadata": {},
     "output_type": "execute_result"
    }
   ],
   "source": [
    "sr6=sr5.groupby(['player','season','match_id'])['strike rate'].agg('sum')\n",
    "sr6.head()"
   ]
  },
  {
   "cell_type": "code",
   "execution_count": 97,
   "metadata": {},
   "outputs": [],
   "source": [
    "sr7=sr5.pivot_table('strike rate','player','season')\n",
    "sr7['avg.strike rate']=sr7.mean(axis=1, skipna=True)\n",
    "sr7.to_csv('sr7.csv')"
   ]
  },
  {
   "cell_type": "code",
   "execution_count": null,
   "metadata": {},
   "outputs": [],
   "source": []
  }
 ],
 "metadata": {
  "kernelspec": {
   "display_name": "Python 3",
   "language": "python",
   "name": "python3"
  },
  "language_info": {
   "codemirror_mode": {
    "name": "ipython",
    "version": 3
   },
   "file_extension": ".py",
   "mimetype": "text/x-python",
   "name": "python",
   "nbconvert_exporter": "python",
   "pygments_lexer": "ipython3",
   "version": "3.7.3"
  }
 },
 "nbformat": 4,
 "nbformat_minor": 2
}
