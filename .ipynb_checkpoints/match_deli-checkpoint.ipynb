{
 "cells": [
  {
   "cell_type": "code",
   "execution_count": 1,
   "metadata": {},
   "outputs": [],
   "source": [
    "import pandas as pd\n",
    "from pandas import Series,DataFrame\n",
    "import numpy as np\n",
    "import matplotlib.pyplot as plt"
   ]
  },
  {
   "cell_type": "code",
   "execution_count": 2,
   "metadata": {},
   "outputs": [],
   "source": [
    "d=pd.read_csv('datasets\\deliveries.csv')\n",
    "m=pd.read_csv('datasets\\matches.csv')"
   ]
  },
  {
   "cell_type": "code",
   "execution_count": 3,
   "metadata": {},
   "outputs": [
    {
     "data": {
      "text/html": [
       "<div>\n",
       "<style scoped>\n",
       "    .dataframe tbody tr th:only-of-type {\n",
       "        vertical-align: middle;\n",
       "    }\n",
       "\n",
       "    .dataframe tbody tr th {\n",
       "        vertical-align: top;\n",
       "    }\n",
       "\n",
       "    .dataframe thead th {\n",
       "        text-align: right;\n",
       "    }\n",
       "</style>\n",
       "<table border=\"1\" class=\"dataframe\">\n",
       "  <thead>\n",
       "    <tr style=\"text-align: right;\">\n",
       "      <th></th>\n",
       "      <th>id</th>\n",
       "      <th>season</th>\n",
       "    </tr>\n",
       "  </thead>\n",
       "  <tbody>\n",
       "    <tr>\n",
       "      <th>0</th>\n",
       "      <td>1</td>\n",
       "      <td>2017</td>\n",
       "    </tr>\n",
       "    <tr>\n",
       "      <th>1</th>\n",
       "      <td>2</td>\n",
       "      <td>2017</td>\n",
       "    </tr>\n",
       "    <tr>\n",
       "      <th>2</th>\n",
       "      <td>3</td>\n",
       "      <td>2017</td>\n",
       "    </tr>\n",
       "    <tr>\n",
       "      <th>3</th>\n",
       "      <td>4</td>\n",
       "      <td>2017</td>\n",
       "    </tr>\n",
       "    <tr>\n",
       "      <th>4</th>\n",
       "      <td>5</td>\n",
       "      <td>2017</td>\n",
       "    </tr>\n",
       "  </tbody>\n",
       "</table>\n",
       "</div>"
      ],
      "text/plain": [
       "   id  season\n",
       "0   1    2017\n",
       "1   2    2017\n",
       "2   3    2017\n",
       "3   4    2017\n",
       "4   5    2017"
      ]
     },
     "execution_count": 3,
     "metadata": {},
     "output_type": "execute_result"
    }
   ],
   "source": [
    "c=m.columns\n",
    "m1=m.drop(c[[2,3,4,5,6,7,8,9,10,11,12,13,14,15,16,17]],axis=1)\n",
    "m1.head()"
   ]
  },
  {
   "cell_type": "code",
   "execution_count": 75,
   "metadata": {},
   "outputs": [
    {
     "data": {
      "text/html": [
       "<div>\n",
       "<style scoped>\n",
       "    .dataframe tbody tr th:only-of-type {\n",
       "        vertical-align: middle;\n",
       "    }\n",
       "\n",
       "    .dataframe tbody tr th {\n",
       "        vertical-align: top;\n",
       "    }\n",
       "\n",
       "    .dataframe thead th {\n",
       "        text-align: right;\n",
       "    }\n",
       "</style>\n",
       "<table border=\"1\" class=\"dataframe\">\n",
       "  <thead>\n",
       "    <tr style=\"text-align: right;\">\n",
       "      <th></th>\n",
       "      <th>id</th>\n",
       "      <th>batsman</th>\n",
       "      <th>bowler</th>\n",
       "      <th>batsman_runs</th>\n",
       "    </tr>\n",
       "  </thead>\n",
       "  <tbody>\n",
       "    <tr>\n",
       "      <th>0</th>\n",
       "      <td>1</td>\n",
       "      <td>DA Warner</td>\n",
       "      <td>TS Mills</td>\n",
       "      <td>0</td>\n",
       "    </tr>\n",
       "    <tr>\n",
       "      <th>1</th>\n",
       "      <td>1</td>\n",
       "      <td>DA Warner</td>\n",
       "      <td>TS Mills</td>\n",
       "      <td>0</td>\n",
       "    </tr>\n",
       "    <tr>\n",
       "      <th>2</th>\n",
       "      <td>1</td>\n",
       "      <td>DA Warner</td>\n",
       "      <td>TS Mills</td>\n",
       "      <td>4</td>\n",
       "    </tr>\n",
       "    <tr>\n",
       "      <th>3</th>\n",
       "      <td>1</td>\n",
       "      <td>DA Warner</td>\n",
       "      <td>TS Mills</td>\n",
       "      <td>0</td>\n",
       "    </tr>\n",
       "    <tr>\n",
       "      <th>4</th>\n",
       "      <td>1</td>\n",
       "      <td>DA Warner</td>\n",
       "      <td>TS Mills</td>\n",
       "      <td>0</td>\n",
       "    </tr>\n",
       "  </tbody>\n",
       "</table>\n",
       "</div>"
      ],
      "text/plain": [
       "   id    batsman    bowler  batsman_runs\n",
       "0   1  DA Warner  TS Mills             0\n",
       "1   1  DA Warner  TS Mills             0\n",
       "2   1  DA Warner  TS Mills             4\n",
       "3   1  DA Warner  TS Mills             0\n",
       "4   1  DA Warner  TS Mills             0"
      ]
     },
     "execution_count": 75,
     "metadata": {},
     "output_type": "execute_result"
    }
   ],
   "source": [
    "d1=d.rename(columns={'match_id':'id'})\n",
    "e=d1.columns\n",
    "d2=d1.drop(e[[1,2,3,4,5,7,9,10,11,12,13,14,16,17,18,19,20]],axis=1)\n",
    "d2.head()"
   ]
  },
  {
   "cell_type": "code",
   "execution_count": 5,
   "metadata": {},
   "outputs": [],
   "source": [
    "final=pd.merge(d2,m1,on='id')\n",
    "final.to_csv('season_wise_runs.csv')\n"
   ]
  },
  {
   "cell_type": "code",
   "execution_count": 76,
   "metadata": {},
   "outputs": [
    {
     "name": "stdout",
     "output_type": "stream",
     "text": [
      "          batsman  season  batsman_runs\n",
      "0  A Ashish Reddy    2012            35\n",
      "1  A Ashish Reddy    2013           125\n",
      "2  A Ashish Reddy    2015            73\n",
      "3  A Ashish Reddy    2016            47\n",
      "4      A Chandila    2012             0\n"
     ]
    },
    {
     "data": {
      "text/plain": [
       "<matplotlib.axes._subplots.AxesSubplot at 0x1e455bd6630>"
      ]
     },
     "execution_count": 76,
     "metadata": {},
     "output_type": "execute_result"
    },
    {
     "data": {
      "image/png": "[encoded data removed]",
      "text/plain": [
       "<Figure size 432x288 with 1 Axes>"
      ]
     },
     "metadata": {
      "needs_background": "light"
     },
     "output_type": "display_data"
    }
   ],
   "source": [
    "f1=final.sort_values(by=['batsman'])\n",
    "f2=DataFrame(f1.groupby(['batsman','season'])['batsman_runs'].agg('sum'))\n",
    "f3=f2.reset_index()\n",
    "aar=f3[0:4]\n",
    "print(f3.head())\n",
    "aar.plot.bar(x='season',y='batsman_runs')"
   ]
  },
  {
   "cell_type": "code",
   "execution_count": 70,
   "metadata": {},
   "outputs": [
    {
     "data": {
      "text/html": [
       "<div>\n",
       "<style scoped>\n",
       "    .dataframe tbody tr th:only-of-type {\n",
       "        vertical-align: middle;\n",
       "    }\n",
       "\n",
       "    .dataframe tbody tr th {\n",
       "        vertical-align: top;\n",
       "    }\n",
       "\n",
       "    .dataframe thead th {\n",
       "        text-align: right;\n",
       "    }\n",
       "</style>\n",
       "<table border=\"1\" class=\"dataframe\">\n",
       "  <thead>\n",
       "    <tr style=\"text-align: right;\">\n",
       "      <th>season</th>\n",
       "      <th>2008</th>\n",
       "      <th>2009</th>\n",
       "      <th>2010</th>\n",
       "      <th>2011</th>\n",
       "      <th>2012</th>\n",
       "      <th>2013</th>\n",
       "      <th>2014</th>\n",
       "      <th>2015</th>\n",
       "      <th>2016</th>\n",
       "      <th>2017</th>\n",
       "    </tr>\n",
       "    <tr>\n",
       "      <th>batsman</th>\n",
       "      <th></th>\n",
       "      <th></th>\n",
       "      <th></th>\n",
       "      <th></th>\n",
       "      <th></th>\n",
       "      <th></th>\n",
       "      <th></th>\n",
       "      <th></th>\n",
       "      <th></th>\n",
       "      <th></th>\n",
       "    </tr>\n",
       "  </thead>\n",
       "  <tbody>\n",
       "    <tr>\n",
       "      <th>SK Raina</th>\n",
       "      <td>421.0</td>\n",
       "      <td>434.0</td>\n",
       "      <td>528.0</td>\n",
       "      <td>438.0</td>\n",
       "      <td>441.0</td>\n",
       "      <td>548.0</td>\n",
       "      <td>523.0</td>\n",
       "      <td>374.0</td>\n",
       "      <td>399.0</td>\n",
       "      <td>442.0</td>\n",
       "    </tr>\n",
       "    <tr>\n",
       "      <th>V Kohli</th>\n",
       "      <td>165.0</td>\n",
       "      <td>246.0</td>\n",
       "      <td>307.0</td>\n",
       "      <td>557.0</td>\n",
       "      <td>364.0</td>\n",
       "      <td>639.0</td>\n",
       "      <td>359.0</td>\n",
       "      <td>505.0</td>\n",
       "      <td>973.0</td>\n",
       "      <td>308.0</td>\n",
       "    </tr>\n",
       "    <tr>\n",
       "      <th>RG Sharma</th>\n",
       "      <td>404.0</td>\n",
       "      <td>362.0</td>\n",
       "      <td>404.0</td>\n",
       "      <td>372.0</td>\n",
       "      <td>433.0</td>\n",
       "      <td>538.0</td>\n",
       "      <td>390.0</td>\n",
       "      <td>482.0</td>\n",
       "      <td>489.0</td>\n",
       "      <td>333.0</td>\n",
       "    </tr>\n",
       "    <tr>\n",
       "      <th>G Gambhir</th>\n",
       "      <td>534.0</td>\n",
       "      <td>286.0</td>\n",
       "      <td>277.0</td>\n",
       "      <td>378.0</td>\n",
       "      <td>590.0</td>\n",
       "      <td>406.0</td>\n",
       "      <td>335.0</td>\n",
       "      <td>327.0</td>\n",
       "      <td>501.0</td>\n",
       "      <td>498.0</td>\n",
       "    </tr>\n",
       "    <tr>\n",
       "      <th>DA Warner</th>\n",
       "      <td>NaN</td>\n",
       "      <td>163.0</td>\n",
       "      <td>282.0</td>\n",
       "      <td>324.0</td>\n",
       "      <td>256.0</td>\n",
       "      <td>410.0</td>\n",
       "      <td>528.0</td>\n",
       "      <td>562.0</td>\n",
       "      <td>848.0</td>\n",
       "      <td>641.0</td>\n",
       "    </tr>\n",
       "  </tbody>\n",
       "</table>\n",
       "</div>"
      ],
      "text/plain": [
       "season      2008   2009   2010   2011   2012   2013   2014   2015   2016  \\\n",
       "batsman                                                                    \n",
       "SK Raina   421.0  434.0  528.0  438.0  441.0  548.0  523.0  374.0  399.0   \n",
       "V Kohli    165.0  246.0  307.0  557.0  364.0  639.0  359.0  505.0  973.0   \n",
       "RG Sharma  404.0  362.0  404.0  372.0  433.0  538.0  390.0  482.0  489.0   \n",
       "G Gambhir  534.0  286.0  277.0  378.0  590.0  406.0  335.0  327.0  501.0   \n",
       "DA Warner    NaN  163.0  282.0  324.0  256.0  410.0  528.0  562.0  848.0   \n",
       "\n",
       "season      2017  \n",
       "batsman           \n",
       "SK Raina   442.0  \n",
       "V Kohli    308.0  \n",
       "RG Sharma  333.0  \n",
       "G Gambhir  498.0  \n",
       "DA Warner  641.0  "
      ]
     },
     "execution_count": 70,
     "metadata": {},
     "output_type": "execute_result"
    }
   ],
   "source": [
    "f4= f3.pivot_table('batsman_runs','batsman','season')\n",
    "f4['Total runs']=f4.sum(axis=1, skipna=True)\n",
    "f5= f4.sort_values(by='Total runs',ascending=False)\n",
    "f6=f5.drop('Total runs',axis=1)\n",
    "f6.head()"
   ]
  },
  {
   "cell_type": "code",
   "execution_count": 74,
   "metadata": {},
   "outputs": [
    {
     "data": {
      "text/plain": [
       "<matplotlib.legend.Legend at 0x1e4579346a0>"
      ]
     },
     "execution_count": 74,
     "metadata": {},
     "output_type": "execute_result"
    },
    {
     "data": {
      "image/png": "[encoded data removed]",
      "text/plain": [
       "<Figure size 432x288 with 1 Axes>"
      ]
     },
     "metadata": {
      "needs_background": "light"
     },
     "output_type": "display_data"
    }
   ],
   "source": [
    "f7=f6[0:10]\n",
    "f8=f7.plot.bar(stacked=True)\n",
    "f8.legend(loc='upper center',ncol=10)"
   ]
  },
  {
   "cell_type": "code",
   "execution_count": null,
   "metadata": {},
   "outputs": [],
   "source": []
  }
 ],
 "metadata": {
  "kernelspec": {
   "display_name": "Python 3",
   "language": "python",
   "name": "python3"
  },
  "language_info": {
   "codemirror_mode": {
    "name": "ipython",
    "version": 3
   },
   "file_extension": ".py",
   "mimetype": "text/x-python",
   "name": "python",
   "nbconvert_exporter": "python",
   "pygments_lexer": "ipython3",
   "version": "3.7.3"
  }
 },
 "nbformat": 4,
 "nbformat_minor": 2
}
