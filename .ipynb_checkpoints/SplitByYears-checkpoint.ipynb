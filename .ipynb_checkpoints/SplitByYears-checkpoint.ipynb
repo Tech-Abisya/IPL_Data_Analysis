{
 "cells": [
  {
   "cell_type": "code",
   "execution_count": 1,
   "metadata": {},
   "outputs": [],
   "source": [
    "import pandas as pd\n",
    "from pandas import Series,DataFrame\n",
    "import numpy as np\n",
    "import matplotlib.pyplot as plt"
   ]
  },
  {
   "cell_type": "code",
   "execution_count": 5,
   "metadata": {},
   "outputs": [],
   "source": [
    "d=pd.read_csv('datasets\\deliveries.csv')\n",
    "m=pd.read_csv('datasets\\matches.csv')\n",
    "c=m.columns\n",
    "m1=m.drop(c[[2,3,4,5,6,7,8,9,10,11,12,13,14,15,16,17]],axis=1)\n",
    "m2=m1.rename(columns={'id':'match_id'})"
   ]
  },
  {
   "cell_type": "code",
   "execution_count": 57,
   "metadata": {},
   "outputs": [
    {
     "data": {
      "text/plain": [
       "\"\\nd2=d1.drop(columns=['inning','batting_team','over','non_striker','bowler','is_super_over','bowling_team'])\\nd3=d2.drop(columns=['wide_runs','bye_runs','legbye_runs','noball_runs','penalty_runs','extra_runs'])\\nd4=d3.drop(columns=['total_runs','player_dismissed','dismissal_kind','fielder'])\\n\""
      ]
     },
     "execution_count": 57,
     "metadata": {},
     "output_type": "execute_result"
    }
   ],
   "source": [
    "d1=pd.merge(d,m2,on='match_id')\n",
    "'''\n",
    "d2=d1.drop(columns=['inning','batting_team','over','non_striker','bowler','is_super_over','bowling_team'])\n",
    "d3=d2.drop(columns=['wide_runs','bye_runs','legbye_runs','noball_runs','penalty_runs','extra_runs'])\n",
    "d4=d3.drop(columns=['total_runs','player_dismissed','dismissal_kind','fielder'])\n",
    "'''"
   ]
  },
  {
   "cell_type": "code",
   "execution_count": 58,
   "metadata": {},
   "outputs": [],
   "source": [
    "d5=d1.season<2018 \n",
    "d6=d1[d5]\n",
    "d7=d6.season>2015\n",
    "d8=d6[d7]\n",
    "d8.to_csv('1617.csv"
   ]
  },
  {
   "cell_type": "code",
   "execution_count": null,
   "metadata": {},
   "outputs": [],
   "source": [
    "d5=d1.season>2017 \n",
    "d6=d1[d5]\n",
    "d6.to_csv('1819.csv')"
   ]
  }
 ],
 "metadata": {
  "kernelspec": {
   "display_name": "Python 3",
   "language": "python",
   "name": "python3"
  },
  "language_info": {
   "codemirror_mode": {
    "name": "ipython",
    "version": 3
   },
   "file_extension": ".py",
   "mimetype": "text/x-python",
   "name": "python",
   "nbconvert_exporter": "python",
   "pygments_lexer": "ipython3",
   "version": "3.7.3"
  }
 },
 "nbformat": 4,
 "nbformat_minor": 2
}
