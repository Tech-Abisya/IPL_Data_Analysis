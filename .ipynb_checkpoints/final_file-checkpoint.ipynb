{
 "cells": [
  {
   "cell_type": "code",
   "execution_count": 1,
   "metadata": {},
   "outputs": [],
   "source": [
    "import pandas as pd\n",
    "from pandas import Series,DataFrame\n",
    "import numpy as np\n",
    "import matplotlib.pyplot as plt"
   ]
  },
  {
   "cell_type": "code",
   "execution_count": 2,
   "metadata": {},
   "outputs": [],
   "source": [
    "from pandas import ExcelWriter\n",
    "from pandas import ExcelFile"
   ]
  },
  {
   "cell_type": "code",
   "execution_count": 11,
   "metadata": {},
   "outputs": [],
   "source": [
    "a1=pd.read_excel('batsmanfinal123.xlsx',sheet_name='srr')\n",
    "a2=pd.read_excel('batsmanfinal123.xlsx',sheet_name='apm')\n",
    "a3=pd.read_excel('batsmanfinal123.xlsx',sheet_name='hpm')\n",
    "a4=pd.read_excel('batsmanfinal123.xlsx',sheet_name='fifty')\n",
    "a5=pd.read_excel('batsmanfinal123.xlsx',sheet_name='hun')\n",
    "a6=pd.read_excel('batsmanfinal123.xlsx',sheet_name='fs')"
   ]
  },
  {
   "cell_type": "code",
   "execution_count": 22,
   "metadata": {},
   "outputs": [
    {
     "data": {
      "text/html": [
       "<div>\n",
       "<style scoped>\n",
       "    .dataframe tbody tr th:only-of-type {\n",
       "        vertical-align: middle;\n",
       "    }\n",
       "\n",
       "    .dataframe tbody tr th {\n",
       "        vertical-align: top;\n",
       "    }\n",
       "\n",
       "    .dataframe thead th {\n",
       "        text-align: right;\n",
       "    }\n",
       "</style>\n",
       "<table border=\"1\" class=\"dataframe\">\n",
       "  <thead>\n",
       "    <tr style=\"text-align: right;\">\n",
       "      <th></th>\n",
       "      <th>batsman</th>\n",
       "      <th>no of balls</th>\n",
       "      <th>batsman_runs</th>\n",
       "      <th>SRR</th>\n",
       "      <th>avg.runs</th>\n",
       "      <th>50's</th>\n",
       "      <th>100's</th>\n",
       "      <th>fours</th>\n",
       "      <th>sixes</th>\n",
       "    </tr>\n",
       "  </thead>\n",
       "  <tbody>\n",
       "    <tr>\n",
       "      <th>0</th>\n",
       "      <td>DL Chahar</td>\n",
       "      <td>6</td>\n",
       "      <td>14</td>\n",
       "      <td>233.333333</td>\n",
       "      <td>14.000000</td>\n",
       "      <td>0</td>\n",
       "      <td>0</td>\n",
       "      <td>0</td>\n",
       "      <td>2</td>\n",
       "    </tr>\n",
       "    <tr>\n",
       "      <th>1</th>\n",
       "      <td>Umar Gul</td>\n",
       "      <td>19</td>\n",
       "      <td>39</td>\n",
       "      <td>205.263158</td>\n",
       "      <td>9.750000</td>\n",
       "      <td>0</td>\n",
       "      <td>0</td>\n",
       "      <td>2</td>\n",
       "      <td>5</td>\n",
       "    </tr>\n",
       "    <tr>\n",
       "      <th>2</th>\n",
       "      <td>RS Sodhi</td>\n",
       "      <td>2</td>\n",
       "      <td>4</td>\n",
       "      <td>200.000000</td>\n",
       "      <td>4.000000</td>\n",
       "      <td>0</td>\n",
       "      <td>0</td>\n",
       "      <td>1</td>\n",
       "      <td>0</td>\n",
       "    </tr>\n",
       "    <tr>\n",
       "      <th>3</th>\n",
       "      <td>BCJ Cutting</td>\n",
       "      <td>70</td>\n",
       "      <td>124</td>\n",
       "      <td>177.142857</td>\n",
       "      <td>15.500000</td>\n",
       "      <td>0</td>\n",
       "      <td>0</td>\n",
       "      <td>9</td>\n",
       "      <td>10</td>\n",
       "    </tr>\n",
       "    <tr>\n",
       "      <th>4</th>\n",
       "      <td>AJ Tye</td>\n",
       "      <td>30</td>\n",
       "      <td>53</td>\n",
       "      <td>176.666667</td>\n",
       "      <td>17.666667</td>\n",
       "      <td>0</td>\n",
       "      <td>0</td>\n",
       "      <td>4</td>\n",
       "      <td>3</td>\n",
       "    </tr>\n",
       "  </tbody>\n",
       "</table>\n",
       "</div>"
      ],
      "text/plain": [
       "       batsman  no of balls  batsman_runs         SRR   avg.runs  50's  100's  \\\n",
       "0    DL Chahar            6            14  233.333333  14.000000     0      0   \n",
       "1     Umar Gul           19            39  205.263158   9.750000     0      0   \n",
       "2     RS Sodhi            2             4  200.000000   4.000000     0      0   \n",
       "3  BCJ Cutting           70           124  177.142857  15.500000     0      0   \n",
       "4       AJ Tye           30            53  176.666667  17.666667     0      0   \n",
       "\n",
       "   fours  sixes  \n",
       "0      0      2  \n",
       "1      2      5  \n",
       "2      1      0  \n",
       "3      9     10  \n",
       "4      4      3  "
      ]
     },
     "execution_count": 22,
     "metadata": {},
     "output_type": "execute_result"
    }
   ],
   "source": [
    "p1=pd.merge(a1,a2,on='batsman')\n",
    "p2=pd.merge(p1,a4,on='batsman')\n",
    "p3=pd.merge(p2,a5,on='batsman')\n",
    "p4=pd.merge(p3,a6,on='batsman')\n",
    "p4.drop(columns=['Unnamed: 3','Unnamed: 4'],inplace=True)\n",
    "p4.head()"
   ]
  },
  {
   "cell_type": "code",
   "execution_count": 24,
   "metadata": {},
   "outputs": [],
   "source": [
    "p4.to_csv('finalbatsman.csv',index=False)"
   ]
  },
  {
   "cell_type": "code",
   "execution_count": null,
   "metadata": {},
   "outputs": [],
   "source": [
    "p4."
   ]
  }
 ],
 "metadata": {
  "kernelspec": {
   "display_name": "Python 3",
   "language": "python",
   "name": "python3"
  },
  "language_info": {
   "codemirror_mode": {
    "name": "ipython",
    "version": 3
   },
   "file_extension": ".py",
   "mimetype": "text/x-python",
   "name": "python",
   "nbconvert_exporter": "python",
   "pygments_lexer": "ipython3",
   "version": "3.7.3"
  }
 },
 "nbformat": 4,
 "nbformat_minor": 2
}
